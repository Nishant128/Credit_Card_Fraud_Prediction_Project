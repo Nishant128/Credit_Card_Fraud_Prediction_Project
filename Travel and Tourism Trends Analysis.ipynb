{
 "cells": [
  {
   "cell_type": "code",
   "execution_count": 1,
   "id": "468756f1-05e5-4b3d-9fc5-5dd2d5955903",
   "metadata": {},
   "outputs": [],
   "source": [
    "import pandas as pd\n",
    "import numpy as np\n",
    "import seaborn as sns\n",
    "import matplotlib.pyplot as plt"
   ]
  },
  {
   "cell_type": "code",
   "execution_count": 2,
   "id": "fa565bd8-9512-4953-a837-03f97ce89638",
   "metadata": {},
   "outputs": [],
   "source": [
    "#Load the Three CSV files\n",
    "\n",
    "flight_data=pd.read_csv('flights.csv')\n",
    "hotel_data=pd.read_csv('hotels.csv')\n",
    "users_data=pd.read_csv('users.csv')"
   ]
  },
  {
   "cell_type": "code",
   "execution_count": 3,
   "id": "7eaa079c-d9b9-44bb-bbc4-7d71f2ba43d3",
   "metadata": {},
   "outputs": [],
   "source": [
    "# Merge hotel and flight data on \"TravelCode\"\n",
    "\n",
    "df_hotel_flight=pd.merge(flight_data,hotel_data,on='travelCode')"
   ]
  },
  {
   "cell_type": "code",
   "execution_count": 6,
   "id": "c6d11f70-0445-4640-ae73-54f9b5f8bea2",
   "metadata": {},
   "outputs": [
    {
     "data": {
      "text/html": [
       "<div>\n",
       "<style scoped>\n",
       "    .dataframe tbody tr th:only-of-type {\n",
       "        vertical-align: middle;\n",
       "    }\n",
       "\n",
       "    .dataframe tbody tr th {\n",
       "        vertical-align: top;\n",
       "    }\n",
       "\n",
       "    .dataframe thead th {\n",
       "        text-align: right;\n",
       "    }\n",
       "</style>\n",
       "<table border=\"1\" class=\"dataframe\">\n",
       "  <thead>\n",
       "    <tr style=\"text-align: right;\">\n",
       "      <th></th>\n",
       "      <th>travelCode</th>\n",
       "      <th>userCode_x</th>\n",
       "      <th>from</th>\n",
       "      <th>to</th>\n",
       "      <th>flightType</th>\n",
       "      <th>price_x</th>\n",
       "      <th>time</th>\n",
       "      <th>distance</th>\n",
       "      <th>agency</th>\n",
       "      <th>date_x</th>\n",
       "      <th>userCode_y</th>\n",
       "      <th>name</th>\n",
       "      <th>place</th>\n",
       "      <th>days</th>\n",
       "      <th>price_y</th>\n",
       "      <th>total</th>\n",
       "      <th>date_y</th>\n",
       "    </tr>\n",
       "  </thead>\n",
       "  <tbody>\n",
       "    <tr>\n",
       "      <th>0</th>\n",
       "      <td>0</td>\n",
       "      <td>0</td>\n",
       "      <td>Recife (PE)</td>\n",
       "      <td>Florianopolis (SC)</td>\n",
       "      <td>firstClass</td>\n",
       "      <td>1434.38</td>\n",
       "      <td>1.76</td>\n",
       "      <td>676.53</td>\n",
       "      <td>FlyingDrops</td>\n",
       "      <td>09/26/2019</td>\n",
       "      <td>0</td>\n",
       "      <td>Hotel A</td>\n",
       "      <td>Florianopolis (SC)</td>\n",
       "      <td>4</td>\n",
       "      <td>313.02</td>\n",
       "      <td>1252.08</td>\n",
       "      <td>09/26/2019</td>\n",
       "    </tr>\n",
       "    <tr>\n",
       "      <th>1</th>\n",
       "      <td>0</td>\n",
       "      <td>0</td>\n",
       "      <td>Florianopolis (SC)</td>\n",
       "      <td>Recife (PE)</td>\n",
       "      <td>firstClass</td>\n",
       "      <td>1292.29</td>\n",
       "      <td>1.76</td>\n",
       "      <td>676.53</td>\n",
       "      <td>FlyingDrops</td>\n",
       "      <td>09/30/2019</td>\n",
       "      <td>0</td>\n",
       "      <td>Hotel A</td>\n",
       "      <td>Florianopolis (SC)</td>\n",
       "      <td>4</td>\n",
       "      <td>313.02</td>\n",
       "      <td>1252.08</td>\n",
       "      <td>09/26/2019</td>\n",
       "    </tr>\n",
       "    <tr>\n",
       "      <th>2</th>\n",
       "      <td>2</td>\n",
       "      <td>0</td>\n",
       "      <td>Aracaju (SE)</td>\n",
       "      <td>Salvador (BH)</td>\n",
       "      <td>firstClass</td>\n",
       "      <td>1684.05</td>\n",
       "      <td>2.16</td>\n",
       "      <td>830.86</td>\n",
       "      <td>CloudFy</td>\n",
       "      <td>10/10/2019</td>\n",
       "      <td>0</td>\n",
       "      <td>Hotel K</td>\n",
       "      <td>Salvador (BH)</td>\n",
       "      <td>2</td>\n",
       "      <td>263.41</td>\n",
       "      <td>526.82</td>\n",
       "      <td>10/10/2019</td>\n",
       "    </tr>\n",
       "    <tr>\n",
       "      <th>3</th>\n",
       "      <td>2</td>\n",
       "      <td>0</td>\n",
       "      <td>Salvador (BH)</td>\n",
       "      <td>Aracaju (SE)</td>\n",
       "      <td>firstClass</td>\n",
       "      <td>1531.92</td>\n",
       "      <td>2.16</td>\n",
       "      <td>830.86</td>\n",
       "      <td>CloudFy</td>\n",
       "      <td>10/12/2019</td>\n",
       "      <td>0</td>\n",
       "      <td>Hotel K</td>\n",
       "      <td>Salvador (BH)</td>\n",
       "      <td>2</td>\n",
       "      <td>263.41</td>\n",
       "      <td>526.82</td>\n",
       "      <td>10/10/2019</td>\n",
       "    </tr>\n",
       "    <tr>\n",
       "      <th>4</th>\n",
       "      <td>7</td>\n",
       "      <td>0</td>\n",
       "      <td>Aracaju (SE)</td>\n",
       "      <td>Salvador (BH)</td>\n",
       "      <td>economic</td>\n",
       "      <td>964.83</td>\n",
       "      <td>2.16</td>\n",
       "      <td>830.86</td>\n",
       "      <td>CloudFy</td>\n",
       "      <td>11/14/2019</td>\n",
       "      <td>0</td>\n",
       "      <td>Hotel K</td>\n",
       "      <td>Salvador (BH)</td>\n",
       "      <td>3</td>\n",
       "      <td>263.41</td>\n",
       "      <td>790.23</td>\n",
       "      <td>11/14/2019</td>\n",
       "    </tr>\n",
       "  </tbody>\n",
       "</table>\n",
       "</div>"
      ],
      "text/plain": [
       "   travelCode  userCode_x                from                  to  flightType  \\\n",
       "0           0           0         Recife (PE)  Florianopolis (SC)  firstClass   \n",
       "1           0           0  Florianopolis (SC)         Recife (PE)  firstClass   \n",
       "2           2           0        Aracaju (SE)       Salvador (BH)  firstClass   \n",
       "3           2           0       Salvador (BH)        Aracaju (SE)  firstClass   \n",
       "4           7           0        Aracaju (SE)       Salvador (BH)    economic   \n",
       "\n",
       "   price_x  time  distance       agency      date_x  userCode_y     name  \\\n",
       "0  1434.38  1.76    676.53  FlyingDrops  09/26/2019           0  Hotel A   \n",
       "1  1292.29  1.76    676.53  FlyingDrops  09/30/2019           0  Hotel A   \n",
       "2  1684.05  2.16    830.86      CloudFy  10/10/2019           0  Hotel K   \n",
       "3  1531.92  2.16    830.86      CloudFy  10/12/2019           0  Hotel K   \n",
       "4   964.83  2.16    830.86      CloudFy  11/14/2019           0  Hotel K   \n",
       "\n",
       "                place  days  price_y    total      date_y  \n",
       "0  Florianopolis (SC)     4   313.02  1252.08  09/26/2019  \n",
       "1  Florianopolis (SC)     4   313.02  1252.08  09/26/2019  \n",
       "2       Salvador (BH)     2   263.41   526.82  10/10/2019  \n",
       "3       Salvador (BH)     2   263.41   526.82  10/10/2019  \n",
       "4       Salvador (BH)     3   263.41   790.23  11/14/2019  "
      ]
     },
     "execution_count": 6,
     "metadata": {},
     "output_type": "execute_result"
    }
   ],
   "source": [
    "df_hotel_flight.head()"
   ]
  },
  {
   "cell_type": "code",
   "execution_count": 7,
   "id": "b00f6e52-1bde-4829-aa70-58ecca4d9e81",
   "metadata": {},
   "outputs": [
    {
     "data": {
      "text/html": [
       "<div>\n",
       "<style scoped>\n",
       "    .dataframe tbody tr th:only-of-type {\n",
       "        vertical-align: middle;\n",
       "    }\n",
       "\n",
       "    .dataframe tbody tr th {\n",
       "        vertical-align: top;\n",
       "    }\n",
       "\n",
       "    .dataframe thead th {\n",
       "        text-align: right;\n",
       "    }\n",
       "</style>\n",
       "<table border=\"1\" class=\"dataframe\">\n",
       "  <thead>\n",
       "    <tr style=\"text-align: right;\">\n",
       "      <th></th>\n",
       "      <th>travelCode</th>\n",
       "      <th>userCode</th>\n",
       "      <th>from</th>\n",
       "      <th>to</th>\n",
       "      <th>flightType</th>\n",
       "      <th>price_x</th>\n",
       "      <th>time</th>\n",
       "      <th>distance</th>\n",
       "      <th>agency</th>\n",
       "      <th>date_x</th>\n",
       "      <th>name</th>\n",
       "      <th>place</th>\n",
       "      <th>days</th>\n",
       "      <th>price_y</th>\n",
       "      <th>total</th>\n",
       "      <th>date_y</th>\n",
       "    </tr>\n",
       "  </thead>\n",
       "  <tbody>\n",
       "    <tr>\n",
       "      <th>0</th>\n",
       "      <td>0</td>\n",
       "      <td>0</td>\n",
       "      <td>Recife (PE)</td>\n",
       "      <td>Florianopolis (SC)</td>\n",
       "      <td>firstClass</td>\n",
       "      <td>1434.38</td>\n",
       "      <td>1.76</td>\n",
       "      <td>676.53</td>\n",
       "      <td>FlyingDrops</td>\n",
       "      <td>09/26/2019</td>\n",
       "      <td>Hotel A</td>\n",
       "      <td>Florianopolis (SC)</td>\n",
       "      <td>4</td>\n",
       "      <td>313.02</td>\n",
       "      <td>1252.08</td>\n",
       "      <td>09/26/2019</td>\n",
       "    </tr>\n",
       "    <tr>\n",
       "      <th>1</th>\n",
       "      <td>0</td>\n",
       "      <td>0</td>\n",
       "      <td>Florianopolis (SC)</td>\n",
       "      <td>Recife (PE)</td>\n",
       "      <td>firstClass</td>\n",
       "      <td>1292.29</td>\n",
       "      <td>1.76</td>\n",
       "      <td>676.53</td>\n",
       "      <td>FlyingDrops</td>\n",
       "      <td>09/30/2019</td>\n",
       "      <td>Hotel A</td>\n",
       "      <td>Florianopolis (SC)</td>\n",
       "      <td>4</td>\n",
       "      <td>313.02</td>\n",
       "      <td>1252.08</td>\n",
       "      <td>09/26/2019</td>\n",
       "    </tr>\n",
       "    <tr>\n",
       "      <th>2</th>\n",
       "      <td>2</td>\n",
       "      <td>0</td>\n",
       "      <td>Aracaju (SE)</td>\n",
       "      <td>Salvador (BH)</td>\n",
       "      <td>firstClass</td>\n",
       "      <td>1684.05</td>\n",
       "      <td>2.16</td>\n",
       "      <td>830.86</td>\n",
       "      <td>CloudFy</td>\n",
       "      <td>10/10/2019</td>\n",
       "      <td>Hotel K</td>\n",
       "      <td>Salvador (BH)</td>\n",
       "      <td>2</td>\n",
       "      <td>263.41</td>\n",
       "      <td>526.82</td>\n",
       "      <td>10/10/2019</td>\n",
       "    </tr>\n",
       "    <tr>\n",
       "      <th>3</th>\n",
       "      <td>2</td>\n",
       "      <td>0</td>\n",
       "      <td>Salvador (BH)</td>\n",
       "      <td>Aracaju (SE)</td>\n",
       "      <td>firstClass</td>\n",
       "      <td>1531.92</td>\n",
       "      <td>2.16</td>\n",
       "      <td>830.86</td>\n",
       "      <td>CloudFy</td>\n",
       "      <td>10/12/2019</td>\n",
       "      <td>Hotel K</td>\n",
       "      <td>Salvador (BH)</td>\n",
       "      <td>2</td>\n",
       "      <td>263.41</td>\n",
       "      <td>526.82</td>\n",
       "      <td>10/10/2019</td>\n",
       "    </tr>\n",
       "    <tr>\n",
       "      <th>4</th>\n",
       "      <td>7</td>\n",
       "      <td>0</td>\n",
       "      <td>Aracaju (SE)</td>\n",
       "      <td>Salvador (BH)</td>\n",
       "      <td>economic</td>\n",
       "      <td>964.83</td>\n",
       "      <td>2.16</td>\n",
       "      <td>830.86</td>\n",
       "      <td>CloudFy</td>\n",
       "      <td>11/14/2019</td>\n",
       "      <td>Hotel K</td>\n",
       "      <td>Salvador (BH)</td>\n",
       "      <td>3</td>\n",
       "      <td>263.41</td>\n",
       "      <td>790.23</td>\n",
       "      <td>11/14/2019</td>\n",
       "    </tr>\n",
       "  </tbody>\n",
       "</table>\n",
       "</div>"
      ],
      "text/plain": [
       "   travelCode  userCode                from                  to  flightType  \\\n",
       "0           0         0         Recife (PE)  Florianopolis (SC)  firstClass   \n",
       "1           0         0  Florianopolis (SC)         Recife (PE)  firstClass   \n",
       "2           2         0        Aracaju (SE)       Salvador (BH)  firstClass   \n",
       "3           2         0       Salvador (BH)        Aracaju (SE)  firstClass   \n",
       "4           7         0        Aracaju (SE)       Salvador (BH)    economic   \n",
       "\n",
       "   price_x  time  distance       agency      date_x     name  \\\n",
       "0  1434.38  1.76    676.53  FlyingDrops  09/26/2019  Hotel A   \n",
       "1  1292.29  1.76    676.53  FlyingDrops  09/30/2019  Hotel A   \n",
       "2  1684.05  2.16    830.86      CloudFy  10/10/2019  Hotel K   \n",
       "3  1531.92  2.16    830.86      CloudFy  10/12/2019  Hotel K   \n",
       "4   964.83  2.16    830.86      CloudFy  11/14/2019  Hotel K   \n",
       "\n",
       "                place  days  price_y    total      date_y  \n",
       "0  Florianopolis (SC)     4   313.02  1252.08  09/26/2019  \n",
       "1  Florianopolis (SC)     4   313.02  1252.08  09/26/2019  \n",
       "2       Salvador (BH)     2   263.41   526.82  10/10/2019  \n",
       "3       Salvador (BH)     2   263.41   526.82  10/10/2019  \n",
       "4       Salvador (BH)     3   263.41   790.23  11/14/2019  "
      ]
     },
     "execution_count": 7,
     "metadata": {},
     "output_type": "execute_result"
    }
   ],
   "source": [
    "# Changing the 'userCode_x' name to 'userCode' and deleting the 'userCode_y' because the userCode_x and userCode_y both are same\n",
    "\n",
    "df_hotel_flight = df_hotel_flight.rename(columns={'userCode_x': 'userCode'})\n",
    "df_hotel_flight.drop(columns='userCode_y', inplace=True)\n",
    "df_hotel_flight.head()"
   ]
  },
  {
   "cell_type": "code",
   "execution_count": 8,
   "id": "a9a3b0eb-7d33-4a90-994f-b9e62abe7a1e",
   "metadata": {},
   "outputs": [
    {
     "data": {
      "text/html": [
       "<div>\n",
       "<style scoped>\n",
       "    .dataframe tbody tr th:only-of-type {\n",
       "        vertical-align: middle;\n",
       "    }\n",
       "\n",
       "    .dataframe tbody tr th {\n",
       "        vertical-align: top;\n",
       "    }\n",
       "\n",
       "    .dataframe thead th {\n",
       "        text-align: right;\n",
       "    }\n",
       "</style>\n",
       "<table border=\"1\" class=\"dataframe\">\n",
       "  <thead>\n",
       "    <tr style=\"text-align: right;\">\n",
       "      <th></th>\n",
       "      <th>userCode</th>\n",
       "      <th>company</th>\n",
       "      <th>name_x</th>\n",
       "      <th>gender</th>\n",
       "      <th>age</th>\n",
       "      <th>travelCode</th>\n",
       "      <th>from</th>\n",
       "      <th>to</th>\n",
       "      <th>flightType</th>\n",
       "      <th>price_x</th>\n",
       "      <th>time</th>\n",
       "      <th>distance</th>\n",
       "      <th>agency</th>\n",
       "      <th>date_x</th>\n",
       "      <th>name_y</th>\n",
       "      <th>place</th>\n",
       "      <th>days</th>\n",
       "      <th>price_y</th>\n",
       "      <th>total</th>\n",
       "      <th>date_y</th>\n",
       "    </tr>\n",
       "  </thead>\n",
       "  <tbody>\n",
       "    <tr>\n",
       "      <th>0</th>\n",
       "      <td>0</td>\n",
       "      <td>4You</td>\n",
       "      <td>Roy Braun</td>\n",
       "      <td>male</td>\n",
       "      <td>21</td>\n",
       "      <td>0</td>\n",
       "      <td>Recife (PE)</td>\n",
       "      <td>Florianopolis (SC)</td>\n",
       "      <td>firstClass</td>\n",
       "      <td>1434.38</td>\n",
       "      <td>1.76</td>\n",
       "      <td>676.53</td>\n",
       "      <td>FlyingDrops</td>\n",
       "      <td>09/26/2019</td>\n",
       "      <td>Hotel A</td>\n",
       "      <td>Florianopolis (SC)</td>\n",
       "      <td>4</td>\n",
       "      <td>313.02</td>\n",
       "      <td>1252.08</td>\n",
       "      <td>09/26/2019</td>\n",
       "    </tr>\n",
       "    <tr>\n",
       "      <th>1</th>\n",
       "      <td>0</td>\n",
       "      <td>4You</td>\n",
       "      <td>Roy Braun</td>\n",
       "      <td>male</td>\n",
       "      <td>21</td>\n",
       "      <td>0</td>\n",
       "      <td>Florianopolis (SC)</td>\n",
       "      <td>Recife (PE)</td>\n",
       "      <td>firstClass</td>\n",
       "      <td>1292.29</td>\n",
       "      <td>1.76</td>\n",
       "      <td>676.53</td>\n",
       "      <td>FlyingDrops</td>\n",
       "      <td>09/30/2019</td>\n",
       "      <td>Hotel A</td>\n",
       "      <td>Florianopolis (SC)</td>\n",
       "      <td>4</td>\n",
       "      <td>313.02</td>\n",
       "      <td>1252.08</td>\n",
       "      <td>09/26/2019</td>\n",
       "    </tr>\n",
       "    <tr>\n",
       "      <th>2</th>\n",
       "      <td>0</td>\n",
       "      <td>4You</td>\n",
       "      <td>Roy Braun</td>\n",
       "      <td>male</td>\n",
       "      <td>21</td>\n",
       "      <td>2</td>\n",
       "      <td>Aracaju (SE)</td>\n",
       "      <td>Salvador (BH)</td>\n",
       "      <td>firstClass</td>\n",
       "      <td>1684.05</td>\n",
       "      <td>2.16</td>\n",
       "      <td>830.86</td>\n",
       "      <td>CloudFy</td>\n",
       "      <td>10/10/2019</td>\n",
       "      <td>Hotel K</td>\n",
       "      <td>Salvador (BH)</td>\n",
       "      <td>2</td>\n",
       "      <td>263.41</td>\n",
       "      <td>526.82</td>\n",
       "      <td>10/10/2019</td>\n",
       "    </tr>\n",
       "    <tr>\n",
       "      <th>3</th>\n",
       "      <td>0</td>\n",
       "      <td>4You</td>\n",
       "      <td>Roy Braun</td>\n",
       "      <td>male</td>\n",
       "      <td>21</td>\n",
       "      <td>2</td>\n",
       "      <td>Salvador (BH)</td>\n",
       "      <td>Aracaju (SE)</td>\n",
       "      <td>firstClass</td>\n",
       "      <td>1531.92</td>\n",
       "      <td>2.16</td>\n",
       "      <td>830.86</td>\n",
       "      <td>CloudFy</td>\n",
       "      <td>10/12/2019</td>\n",
       "      <td>Hotel K</td>\n",
       "      <td>Salvador (BH)</td>\n",
       "      <td>2</td>\n",
       "      <td>263.41</td>\n",
       "      <td>526.82</td>\n",
       "      <td>10/10/2019</td>\n",
       "    </tr>\n",
       "    <tr>\n",
       "      <th>4</th>\n",
       "      <td>0</td>\n",
       "      <td>4You</td>\n",
       "      <td>Roy Braun</td>\n",
       "      <td>male</td>\n",
       "      <td>21</td>\n",
       "      <td>7</td>\n",
       "      <td>Aracaju (SE)</td>\n",
       "      <td>Salvador (BH)</td>\n",
       "      <td>economic</td>\n",
       "      <td>964.83</td>\n",
       "      <td>2.16</td>\n",
       "      <td>830.86</td>\n",
       "      <td>CloudFy</td>\n",
       "      <td>11/14/2019</td>\n",
       "      <td>Hotel K</td>\n",
       "      <td>Salvador (BH)</td>\n",
       "      <td>3</td>\n",
       "      <td>263.41</td>\n",
       "      <td>790.23</td>\n",
       "      <td>11/14/2019</td>\n",
       "    </tr>\n",
       "  </tbody>\n",
       "</table>\n",
       "</div>"
      ],
      "text/plain": [
       "   userCode company     name_x gender  age  travelCode                from  \\\n",
       "0         0    4You  Roy Braun   male   21           0         Recife (PE)   \n",
       "1         0    4You  Roy Braun   male   21           0  Florianopolis (SC)   \n",
       "2         0    4You  Roy Braun   male   21           2        Aracaju (SE)   \n",
       "3         0    4You  Roy Braun   male   21           2       Salvador (BH)   \n",
       "4         0    4You  Roy Braun   male   21           7        Aracaju (SE)   \n",
       "\n",
       "                   to  flightType  price_x  time  distance       agency  \\\n",
       "0  Florianopolis (SC)  firstClass  1434.38  1.76    676.53  FlyingDrops   \n",
       "1         Recife (PE)  firstClass  1292.29  1.76    676.53  FlyingDrops   \n",
       "2       Salvador (BH)  firstClass  1684.05  2.16    830.86      CloudFy   \n",
       "3        Aracaju (SE)  firstClass  1531.92  2.16    830.86      CloudFy   \n",
       "4       Salvador (BH)    economic   964.83  2.16    830.86      CloudFy   \n",
       "\n",
       "       date_x   name_y               place  days  price_y    total      date_y  \n",
       "0  09/26/2019  Hotel A  Florianopolis (SC)     4   313.02  1252.08  09/26/2019  \n",
       "1  09/30/2019  Hotel A  Florianopolis (SC)     4   313.02  1252.08  09/26/2019  \n",
       "2  10/10/2019  Hotel K       Salvador (BH)     2   263.41   526.82  10/10/2019  \n",
       "3  10/12/2019  Hotel K       Salvador (BH)     2   263.41   526.82  10/10/2019  \n",
       "4  11/14/2019  Hotel K       Salvador (BH)     3   263.41   790.23  11/14/2019  "
      ]
     },
     "execution_count": 8,
     "metadata": {},
     "output_type": "execute_result"
    }
   ],
   "source": [
    "# final merging the user data to the hotel and flight dataframe\n",
    "\n",
    "df_final=pd.merge(users_data,df_hotel_flight,on='userCode')\n",
    "df_final.head()"
   ]
  },
  {
   "cell_type": "code",
   "execution_count": 9,
   "id": "119aae21-e887-4fde-9962-9c90d2112918",
   "metadata": {},
   "outputs": [],
   "source": [
    "# making some changes in Columns name like name_x is UserName and name_y is HotelNmae\n",
    "\n",
    "df_final = df_final.rename(columns={'name_x': 'userName', 'price_x': 'flightPrice', 'date_x': 'flightDate', 'name_y': 'hotelName', 'price_y': 'hotelPrice', 'date_y': 'hotelDate','time':'flightTime','distance':'flightDistance','agency':'flightAgency','total':'hotelTotal','place':'hotelPlace'})"
   ]
  },
  {
   "cell_type": "code",
   "execution_count": 10,
   "id": "07ac4ea5-e1c2-4fed-94dd-1c82fdb049d5",
   "metadata": {},
   "outputs": [
    {
     "data": {
      "text/html": [
       "<div>\n",
       "<style scoped>\n",
       "    .dataframe tbody tr th:only-of-type {\n",
       "        vertical-align: middle;\n",
       "    }\n",
       "\n",
       "    .dataframe tbody tr th {\n",
       "        vertical-align: top;\n",
       "    }\n",
       "\n",
       "    .dataframe thead th {\n",
       "        text-align: right;\n",
       "    }\n",
       "</style>\n",
       "<table border=\"1\" class=\"dataframe\">\n",
       "  <thead>\n",
       "    <tr style=\"text-align: right;\">\n",
       "      <th></th>\n",
       "      <th>userCode</th>\n",
       "      <th>company</th>\n",
       "      <th>userName</th>\n",
       "      <th>gender</th>\n",
       "      <th>age</th>\n",
       "      <th>travelCode</th>\n",
       "      <th>from</th>\n",
       "      <th>to</th>\n",
       "      <th>flightType</th>\n",
       "      <th>flightPrice</th>\n",
       "      <th>flightTime</th>\n",
       "      <th>flightDistance</th>\n",
       "      <th>flightAgency</th>\n",
       "      <th>flightDate</th>\n",
       "      <th>hotelName</th>\n",
       "      <th>hotelPlace</th>\n",
       "      <th>days</th>\n",
       "      <th>hotelPrice</th>\n",
       "      <th>hotelTotal</th>\n",
       "      <th>hotelDate</th>\n",
       "    </tr>\n",
       "  </thead>\n",
       "  <tbody>\n",
       "    <tr>\n",
       "      <th>0</th>\n",
       "      <td>0</td>\n",
       "      <td>4You</td>\n",
       "      <td>Roy Braun</td>\n",
       "      <td>male</td>\n",
       "      <td>21</td>\n",
       "      <td>0</td>\n",
       "      <td>Recife (PE)</td>\n",
       "      <td>Florianopolis (SC)</td>\n",
       "      <td>firstClass</td>\n",
       "      <td>1434.38</td>\n",
       "      <td>1.76</td>\n",
       "      <td>676.53</td>\n",
       "      <td>FlyingDrops</td>\n",
       "      <td>09/26/2019</td>\n",
       "      <td>Hotel A</td>\n",
       "      <td>Florianopolis (SC)</td>\n",
       "      <td>4</td>\n",
       "      <td>313.02</td>\n",
       "      <td>1252.08</td>\n",
       "      <td>09/26/2019</td>\n",
       "    </tr>\n",
       "    <tr>\n",
       "      <th>1</th>\n",
       "      <td>0</td>\n",
       "      <td>4You</td>\n",
       "      <td>Roy Braun</td>\n",
       "      <td>male</td>\n",
       "      <td>21</td>\n",
       "      <td>0</td>\n",
       "      <td>Florianopolis (SC)</td>\n",
       "      <td>Recife (PE)</td>\n",
       "      <td>firstClass</td>\n",
       "      <td>1292.29</td>\n",
       "      <td>1.76</td>\n",
       "      <td>676.53</td>\n",
       "      <td>FlyingDrops</td>\n",
       "      <td>09/30/2019</td>\n",
       "      <td>Hotel A</td>\n",
       "      <td>Florianopolis (SC)</td>\n",
       "      <td>4</td>\n",
       "      <td>313.02</td>\n",
       "      <td>1252.08</td>\n",
       "      <td>09/26/2019</td>\n",
       "    </tr>\n",
       "    <tr>\n",
       "      <th>2</th>\n",
       "      <td>0</td>\n",
       "      <td>4You</td>\n",
       "      <td>Roy Braun</td>\n",
       "      <td>male</td>\n",
       "      <td>21</td>\n",
       "      <td>2</td>\n",
       "      <td>Aracaju (SE)</td>\n",
       "      <td>Salvador (BH)</td>\n",
       "      <td>firstClass</td>\n",
       "      <td>1684.05</td>\n",
       "      <td>2.16</td>\n",
       "      <td>830.86</td>\n",
       "      <td>CloudFy</td>\n",
       "      <td>10/10/2019</td>\n",
       "      <td>Hotel K</td>\n",
       "      <td>Salvador (BH)</td>\n",
       "      <td>2</td>\n",
       "      <td>263.41</td>\n",
       "      <td>526.82</td>\n",
       "      <td>10/10/2019</td>\n",
       "    </tr>\n",
       "    <tr>\n",
       "      <th>3</th>\n",
       "      <td>0</td>\n",
       "      <td>4You</td>\n",
       "      <td>Roy Braun</td>\n",
       "      <td>male</td>\n",
       "      <td>21</td>\n",
       "      <td>2</td>\n",
       "      <td>Salvador (BH)</td>\n",
       "      <td>Aracaju (SE)</td>\n",
       "      <td>firstClass</td>\n",
       "      <td>1531.92</td>\n",
       "      <td>2.16</td>\n",
       "      <td>830.86</td>\n",
       "      <td>CloudFy</td>\n",
       "      <td>10/12/2019</td>\n",
       "      <td>Hotel K</td>\n",
       "      <td>Salvador (BH)</td>\n",
       "      <td>2</td>\n",
       "      <td>263.41</td>\n",
       "      <td>526.82</td>\n",
       "      <td>10/10/2019</td>\n",
       "    </tr>\n",
       "    <tr>\n",
       "      <th>4</th>\n",
       "      <td>0</td>\n",
       "      <td>4You</td>\n",
       "      <td>Roy Braun</td>\n",
       "      <td>male</td>\n",
       "      <td>21</td>\n",
       "      <td>7</td>\n",
       "      <td>Aracaju (SE)</td>\n",
       "      <td>Salvador (BH)</td>\n",
       "      <td>economic</td>\n",
       "      <td>964.83</td>\n",
       "      <td>2.16</td>\n",
       "      <td>830.86</td>\n",
       "      <td>CloudFy</td>\n",
       "      <td>11/14/2019</td>\n",
       "      <td>Hotel K</td>\n",
       "      <td>Salvador (BH)</td>\n",
       "      <td>3</td>\n",
       "      <td>263.41</td>\n",
       "      <td>790.23</td>\n",
       "      <td>11/14/2019</td>\n",
       "    </tr>\n",
       "  </tbody>\n",
       "</table>\n",
       "</div>"
      ],
      "text/plain": [
       "   userCode company   userName gender  age  travelCode                from  \\\n",
       "0         0    4You  Roy Braun   male   21           0         Recife (PE)   \n",
       "1         0    4You  Roy Braun   male   21           0  Florianopolis (SC)   \n",
       "2         0    4You  Roy Braun   male   21           2        Aracaju (SE)   \n",
       "3         0    4You  Roy Braun   male   21           2       Salvador (BH)   \n",
       "4         0    4You  Roy Braun   male   21           7        Aracaju (SE)   \n",
       "\n",
       "                   to  flightType  flightPrice  flightTime  flightDistance  \\\n",
       "0  Florianopolis (SC)  firstClass      1434.38        1.76          676.53   \n",
       "1         Recife (PE)  firstClass      1292.29        1.76          676.53   \n",
       "2       Salvador (BH)  firstClass      1684.05        2.16          830.86   \n",
       "3        Aracaju (SE)  firstClass      1531.92        2.16          830.86   \n",
       "4       Salvador (BH)    economic       964.83        2.16          830.86   \n",
       "\n",
       "  flightAgency  flightDate hotelName          hotelPlace  days  hotelPrice  \\\n",
       "0  FlyingDrops  09/26/2019   Hotel A  Florianopolis (SC)     4      313.02   \n",
       "1  FlyingDrops  09/30/2019   Hotel A  Florianopolis (SC)     4      313.02   \n",
       "2      CloudFy  10/10/2019   Hotel K       Salvador (BH)     2      263.41   \n",
       "3      CloudFy  10/12/2019   Hotel K       Salvador (BH)     2      263.41   \n",
       "4      CloudFy  11/14/2019   Hotel K       Salvador (BH)     3      263.41   \n",
       "\n",
       "   hotelTotal   hotelDate  \n",
       "0     1252.08  09/26/2019  \n",
       "1     1252.08  09/26/2019  \n",
       "2      526.82  10/10/2019  \n",
       "3      526.82  10/10/2019  \n",
       "4      790.23  11/14/2019  "
      ]
     },
     "execution_count": 10,
     "metadata": {},
     "output_type": "execute_result"
    }
   ],
   "source": [
    "df_final.head()"
   ]
  },
  {
   "cell_type": "code",
   "execution_count": 11,
   "id": "841f7560-4740-4608-bb66-8cc778e1d722",
   "metadata": {},
   "outputs": [
    {
     "data": {
      "text/plain": [
       "(81104, 20)"
      ]
     },
     "execution_count": 11,
     "metadata": {},
     "output_type": "execute_result"
    }
   ],
   "source": [
    "df_final.shape"
   ]
  },
  {
   "cell_type": "markdown",
   "id": "02e462d8-670c-474f-9464-955c7ae45f44",
   "metadata": {},
   "source": [
    "## EDA"
   ]
  },
  {
   "cell_type": "code",
   "execution_count": 12,
   "id": "44048751-90cd-469d-9dad-63b61b503281",
   "metadata": {},
   "outputs": [
    {
     "data": {
      "text/html": [
       "<div>\n",
       "<style scoped>\n",
       "    .dataframe tbody tr th:only-of-type {\n",
       "        vertical-align: middle;\n",
       "    }\n",
       "\n",
       "    .dataframe tbody tr th {\n",
       "        vertical-align: top;\n",
       "    }\n",
       "\n",
       "    .dataframe thead th {\n",
       "        text-align: right;\n",
       "    }\n",
       "</style>\n",
       "<table border=\"1\" class=\"dataframe\">\n",
       "  <thead>\n",
       "    <tr style=\"text-align: right;\">\n",
       "      <th></th>\n",
       "      <th>userCode</th>\n",
       "      <th>age</th>\n",
       "      <th>travelCode</th>\n",
       "      <th>flightPrice</th>\n",
       "      <th>flightTime</th>\n",
       "      <th>flightDistance</th>\n",
       "      <th>days</th>\n",
       "      <th>hotelPrice</th>\n",
       "      <th>hotelTotal</th>\n",
       "    </tr>\n",
       "  </thead>\n",
       "  <tbody>\n",
       "    <tr>\n",
       "      <th>count</th>\n",
       "      <td>81104.000000</td>\n",
       "      <td>81104.000000</td>\n",
       "      <td>81104.000000</td>\n",
       "      <td>81104.000000</td>\n",
       "      <td>81104.000000</td>\n",
       "      <td>81104.000000</td>\n",
       "      <td>81104.000000</td>\n",
       "      <td>81104.000000</td>\n",
       "      <td>81104.000000</td>\n",
       "    </tr>\n",
       "    <tr>\n",
       "      <th>mean</th>\n",
       "      <td>666.963726</td>\n",
       "      <td>42.790615</td>\n",
       "      <td>67911.794461</td>\n",
       "      <td>957.725281</td>\n",
       "      <td>1.424116</td>\n",
       "      <td>548.097771</td>\n",
       "      <td>2.499679</td>\n",
       "      <td>214.439554</td>\n",
       "      <td>536.229513</td>\n",
       "    </tr>\n",
       "    <tr>\n",
       "      <th>std</th>\n",
       "      <td>391.134383</td>\n",
       "      <td>12.942576</td>\n",
       "      <td>39407.956381</td>\n",
       "      <td>362.212893</td>\n",
       "      <td>0.543071</td>\n",
       "      <td>209.053667</td>\n",
       "      <td>1.119319</td>\n",
       "      <td>76.741832</td>\n",
       "      <td>319.329514</td>\n",
       "    </tr>\n",
       "    <tr>\n",
       "      <th>min</th>\n",
       "      <td>0.000000</td>\n",
       "      <td>21.000000</td>\n",
       "      <td>0.000000</td>\n",
       "      <td>301.510000</td>\n",
       "      <td>0.440000</td>\n",
       "      <td>168.220000</td>\n",
       "      <td>1.000000</td>\n",
       "      <td>60.390000</td>\n",
       "      <td>60.390000</td>\n",
       "    </tr>\n",
       "    <tr>\n",
       "      <th>25%</th>\n",
       "      <td>323.000000</td>\n",
       "      <td>32.000000</td>\n",
       "      <td>33696.750000</td>\n",
       "      <td>672.660000</td>\n",
       "      <td>1.040000</td>\n",
       "      <td>401.660000</td>\n",
       "      <td>1.000000</td>\n",
       "      <td>165.990000</td>\n",
       "      <td>247.620000</td>\n",
       "    </tr>\n",
       "    <tr>\n",
       "      <th>50%</th>\n",
       "      <td>658.000000</td>\n",
       "      <td>42.000000</td>\n",
       "      <td>67831.000000</td>\n",
       "      <td>899.600000</td>\n",
       "      <td>1.460000</td>\n",
       "      <td>562.140000</td>\n",
       "      <td>2.000000</td>\n",
       "      <td>242.880000</td>\n",
       "      <td>495.240000</td>\n",
       "    </tr>\n",
       "    <tr>\n",
       "      <th>75%</th>\n",
       "      <td>1013.000000</td>\n",
       "      <td>54.000000</td>\n",
       "      <td>102211.250000</td>\n",
       "      <td>1222.240000</td>\n",
       "      <td>1.760000</td>\n",
       "      <td>676.530000</td>\n",
       "      <td>4.000000</td>\n",
       "      <td>263.410000</td>\n",
       "      <td>742.860000</td>\n",
       "    </tr>\n",
       "    <tr>\n",
       "      <th>max</th>\n",
       "      <td>1339.000000</td>\n",
       "      <td>65.000000</td>\n",
       "      <td>135942.000000</td>\n",
       "      <td>1754.170000</td>\n",
       "      <td>2.440000</td>\n",
       "      <td>937.770000</td>\n",
       "      <td>4.000000</td>\n",
       "      <td>313.020000</td>\n",
       "      <td>1252.080000</td>\n",
       "    </tr>\n",
       "  </tbody>\n",
       "</table>\n",
       "</div>"
      ],
      "text/plain": [
       "           userCode           age     travelCode   flightPrice    flightTime  \\\n",
       "count  81104.000000  81104.000000   81104.000000  81104.000000  81104.000000   \n",
       "mean     666.963726     42.790615   67911.794461    957.725281      1.424116   \n",
       "std      391.134383     12.942576   39407.956381    362.212893      0.543071   \n",
       "min        0.000000     21.000000       0.000000    301.510000      0.440000   \n",
       "25%      323.000000     32.000000   33696.750000    672.660000      1.040000   \n",
       "50%      658.000000     42.000000   67831.000000    899.600000      1.460000   \n",
       "75%     1013.000000     54.000000  102211.250000   1222.240000      1.760000   \n",
       "max     1339.000000     65.000000  135942.000000   1754.170000      2.440000   \n",
       "\n",
       "       flightDistance          days    hotelPrice    hotelTotal  \n",
       "count    81104.000000  81104.000000  81104.000000  81104.000000  \n",
       "mean       548.097771      2.499679    214.439554    536.229513  \n",
       "std        209.053667      1.119319     76.741832    319.329514  \n",
       "min        168.220000      1.000000     60.390000     60.390000  \n",
       "25%        401.660000      1.000000    165.990000    247.620000  \n",
       "50%        562.140000      2.000000    242.880000    495.240000  \n",
       "75%        676.530000      4.000000    263.410000    742.860000  \n",
       "max        937.770000      4.000000    313.020000   1252.080000  "
      ]
     },
     "execution_count": 12,
     "metadata": {},
     "output_type": "execute_result"
    }
   ],
   "source": [
    "## finding some mathemetical information into this\n",
    "\n",
    "df_final.describe()"
   ]
  },
  {
   "cell_type": "code",
   "execution_count": 13,
   "id": "6369e267-51b0-44f0-aa17-1fdff3a54ba7",
   "metadata": {},
   "outputs": [
    {
     "name": "stdout",
     "output_type": "stream",
     "text": [
      "<class 'pandas.core.frame.DataFrame'>\n",
      "RangeIndex: 81104 entries, 0 to 81103\n",
      "Data columns (total 20 columns):\n",
      " #   Column          Non-Null Count  Dtype  \n",
      "---  ------          --------------  -----  \n",
      " 0   userCode        81104 non-null  int64  \n",
      " 1   company         81104 non-null  object \n",
      " 2   userName        81104 non-null  object \n",
      " 3   gender          81104 non-null  object \n",
      " 4   age             81104 non-null  int64  \n",
      " 5   travelCode      81104 non-null  int64  \n",
      " 6   from            81104 non-null  object \n",
      " 7   to              81104 non-null  object \n",
      " 8   flightType      81104 non-null  object \n",
      " 9   flightPrice     81104 non-null  float64\n",
      " 10  flightTime      81104 non-null  float64\n",
      " 11  flightDistance  81104 non-null  float64\n",
      " 12  flightAgency    81104 non-null  object \n",
      " 13  flightDate      81104 non-null  object \n",
      " 14  hotelName       81104 non-null  object \n",
      " 15  hotelPlace      81104 non-null  object \n",
      " 16  days            81104 non-null  int64  \n",
      " 17  hotelPrice      81104 non-null  float64\n",
      " 18  hotelTotal      81104 non-null  float64\n",
      " 19  hotelDate       81104 non-null  object \n",
      "dtypes: float64(5), int64(4), object(11)\n",
      "memory usage: 12.4+ MB\n"
     ]
    }
   ],
   "source": [
    "df_final.info()"
   ]
  },
  {
   "cell_type": "code",
   "execution_count": 14,
   "id": "374ebaca-28ad-4157-97de-d1e305f679f0",
   "metadata": {},
   "outputs": [
    {
     "data": {
      "text/plain": [
       "(81104, 20)"
      ]
     },
     "execution_count": 14,
     "metadata": {},
     "output_type": "execute_result"
    }
   ],
   "source": [
    "## drop the dublicate values\n",
    "\n",
    "df_final=df_final.drop_duplicates()      \n",
    "df_final.shape                                        ## the data set did't have any dublicate values because the previous rows value and after rows value are same"
   ]
  },
  {
   "cell_type": "markdown",
   "id": "bf759e08-2e5f-4e5c-9a42-00007917959c",
   "metadata": {},
   "source": [
    "## Geting some more information regarding data"
   ]
  },
  {
   "cell_type": "code",
   "execution_count": 15,
   "id": "3ff0e56e-d44f-4c43-92f2-ae8fb85fe440",
   "metadata": {},
   "outputs": [
    {
     "data": {
      "text/html": [
       "<div>\n",
       "<style scoped>\n",
       "    .dataframe tbody tr th:only-of-type {\n",
       "        vertical-align: middle;\n",
       "    }\n",
       "\n",
       "    .dataframe tbody tr th {\n",
       "        vertical-align: top;\n",
       "    }\n",
       "\n",
       "    .dataframe thead th {\n",
       "        text-align: right;\n",
       "    }\n",
       "</style>\n",
       "<table border=\"1\" class=\"dataframe\">\n",
       "  <thead>\n",
       "    <tr style=\"text-align: right;\">\n",
       "      <th></th>\n",
       "      <th>userCode</th>\n",
       "      <th>company</th>\n",
       "      <th>userName</th>\n",
       "      <th>gender</th>\n",
       "      <th>age</th>\n",
       "      <th>travelCode</th>\n",
       "      <th>from</th>\n",
       "      <th>to</th>\n",
       "      <th>flightType</th>\n",
       "      <th>flightPrice</th>\n",
       "      <th>flightTime</th>\n",
       "      <th>flightDistance</th>\n",
       "      <th>flightAgency</th>\n",
       "      <th>flightDate</th>\n",
       "      <th>hotelName</th>\n",
       "      <th>hotelPlace</th>\n",
       "      <th>days</th>\n",
       "      <th>hotelPrice</th>\n",
       "      <th>hotelTotal</th>\n",
       "      <th>hotelDate</th>\n",
       "    </tr>\n",
       "  </thead>\n",
       "  <tbody>\n",
       "    <tr>\n",
       "      <th>0</th>\n",
       "      <td>0</td>\n",
       "      <td>4You</td>\n",
       "      <td>Roy Braun</td>\n",
       "      <td>male</td>\n",
       "      <td>21</td>\n",
       "      <td>0</td>\n",
       "      <td>Recife (PE)</td>\n",
       "      <td>Florianopolis (SC)</td>\n",
       "      <td>firstClass</td>\n",
       "      <td>1434.38</td>\n",
       "      <td>1.76</td>\n",
       "      <td>676.53</td>\n",
       "      <td>FlyingDrops</td>\n",
       "      <td>09/26/2019</td>\n",
       "      <td>Hotel A</td>\n",
       "      <td>Florianopolis (SC)</td>\n",
       "      <td>4</td>\n",
       "      <td>313.02</td>\n",
       "      <td>1252.08</td>\n",
       "      <td>09/26/2019</td>\n",
       "    </tr>\n",
       "    <tr>\n",
       "      <th>1</th>\n",
       "      <td>0</td>\n",
       "      <td>4You</td>\n",
       "      <td>Roy Braun</td>\n",
       "      <td>male</td>\n",
       "      <td>21</td>\n",
       "      <td>0</td>\n",
       "      <td>Florianopolis (SC)</td>\n",
       "      <td>Recife (PE)</td>\n",
       "      <td>firstClass</td>\n",
       "      <td>1292.29</td>\n",
       "      <td>1.76</td>\n",
       "      <td>676.53</td>\n",
       "      <td>FlyingDrops</td>\n",
       "      <td>09/30/2019</td>\n",
       "      <td>Hotel A</td>\n",
       "      <td>Florianopolis (SC)</td>\n",
       "      <td>4</td>\n",
       "      <td>313.02</td>\n",
       "      <td>1252.08</td>\n",
       "      <td>09/26/2019</td>\n",
       "    </tr>\n",
       "    <tr>\n",
       "      <th>2</th>\n",
       "      <td>0</td>\n",
       "      <td>4You</td>\n",
       "      <td>Roy Braun</td>\n",
       "      <td>male</td>\n",
       "      <td>21</td>\n",
       "      <td>2</td>\n",
       "      <td>Aracaju (SE)</td>\n",
       "      <td>Salvador (BH)</td>\n",
       "      <td>firstClass</td>\n",
       "      <td>1684.05</td>\n",
       "      <td>2.16</td>\n",
       "      <td>830.86</td>\n",
       "      <td>CloudFy</td>\n",
       "      <td>10/10/2019</td>\n",
       "      <td>Hotel K</td>\n",
       "      <td>Salvador (BH)</td>\n",
       "      <td>2</td>\n",
       "      <td>263.41</td>\n",
       "      <td>526.82</td>\n",
       "      <td>10/10/2019</td>\n",
       "    </tr>\n",
       "    <tr>\n",
       "      <th>3</th>\n",
       "      <td>0</td>\n",
       "      <td>4You</td>\n",
       "      <td>Roy Braun</td>\n",
       "      <td>male</td>\n",
       "      <td>21</td>\n",
       "      <td>2</td>\n",
       "      <td>Salvador (BH)</td>\n",
       "      <td>Aracaju (SE)</td>\n",
       "      <td>firstClass</td>\n",
       "      <td>1531.92</td>\n",
       "      <td>2.16</td>\n",
       "      <td>830.86</td>\n",
       "      <td>CloudFy</td>\n",
       "      <td>10/12/2019</td>\n",
       "      <td>Hotel K</td>\n",
       "      <td>Salvador (BH)</td>\n",
       "      <td>2</td>\n",
       "      <td>263.41</td>\n",
       "      <td>526.82</td>\n",
       "      <td>10/10/2019</td>\n",
       "    </tr>\n",
       "    <tr>\n",
       "      <th>4</th>\n",
       "      <td>0</td>\n",
       "      <td>4You</td>\n",
       "      <td>Roy Braun</td>\n",
       "      <td>male</td>\n",
       "      <td>21</td>\n",
       "      <td>7</td>\n",
       "      <td>Aracaju (SE)</td>\n",
       "      <td>Salvador (BH)</td>\n",
       "      <td>economic</td>\n",
       "      <td>964.83</td>\n",
       "      <td>2.16</td>\n",
       "      <td>830.86</td>\n",
       "      <td>CloudFy</td>\n",
       "      <td>11/14/2019</td>\n",
       "      <td>Hotel K</td>\n",
       "      <td>Salvador (BH)</td>\n",
       "      <td>3</td>\n",
       "      <td>263.41</td>\n",
       "      <td>790.23</td>\n",
       "      <td>11/14/2019</td>\n",
       "    </tr>\n",
       "  </tbody>\n",
       "</table>\n",
       "</div>"
      ],
      "text/plain": [
       "   userCode company   userName gender  age  travelCode                from  \\\n",
       "0         0    4You  Roy Braun   male   21           0         Recife (PE)   \n",
       "1         0    4You  Roy Braun   male   21           0  Florianopolis (SC)   \n",
       "2         0    4You  Roy Braun   male   21           2        Aracaju (SE)   \n",
       "3         0    4You  Roy Braun   male   21           2       Salvador (BH)   \n",
       "4         0    4You  Roy Braun   male   21           7        Aracaju (SE)   \n",
       "\n",
       "                   to  flightType  flightPrice  flightTime  flightDistance  \\\n",
       "0  Florianopolis (SC)  firstClass      1434.38        1.76          676.53   \n",
       "1         Recife (PE)  firstClass      1292.29        1.76          676.53   \n",
       "2       Salvador (BH)  firstClass      1684.05        2.16          830.86   \n",
       "3        Aracaju (SE)  firstClass      1531.92        2.16          830.86   \n",
       "4       Salvador (BH)    economic       964.83        2.16          830.86   \n",
       "\n",
       "  flightAgency  flightDate hotelName          hotelPlace  days  hotelPrice  \\\n",
       "0  FlyingDrops  09/26/2019   Hotel A  Florianopolis (SC)     4      313.02   \n",
       "1  FlyingDrops  09/30/2019   Hotel A  Florianopolis (SC)     4      313.02   \n",
       "2      CloudFy  10/10/2019   Hotel K       Salvador (BH)     2      263.41   \n",
       "3      CloudFy  10/12/2019   Hotel K       Salvador (BH)     2      263.41   \n",
       "4      CloudFy  11/14/2019   Hotel K       Salvador (BH)     3      263.41   \n",
       "\n",
       "   hotelTotal   hotelDate  \n",
       "0     1252.08  09/26/2019  \n",
       "1     1252.08  09/26/2019  \n",
       "2      526.82  10/10/2019  \n",
       "3      526.82  10/10/2019  \n",
       "4      790.23  11/14/2019  "
      ]
     },
     "execution_count": 15,
     "metadata": {},
     "output_type": "execute_result"
    }
   ],
   "source": [
    "df_final.head()"
   ]
  },
  {
   "cell_type": "code",
   "execution_count": 16,
   "id": "bc03727c-5ef4-4764-86da-9a006c6afb87",
   "metadata": {},
   "outputs": [
    {
     "data": {
      "text/plain": [
       "array(['4You', 'Monsters CYA', 'Wonka Company', 'Acme Factory',\n",
       "       'Umbrella LTDA'], dtype=object)"
      ]
     },
     "execution_count": 16,
     "metadata": {},
     "output_type": "execute_result"
    }
   ],
   "source": [
    "df_final['company'].unique() ## These are the only used by user for traveling"
   ]
  },
  {
   "cell_type": "code",
   "execution_count": 17,
   "id": "599b09c1-050b-4a43-9a44-1d5a8917f4e4",
   "metadata": {},
   "outputs": [
    {
     "data": {
      "text/plain": [
       "array([21, 37, 48, 23, 44, 47, 46, 41, 35, 36, 61, 53, 56, 25, 65, 22, 51,\n",
       "       60, 64, 49, 62, 59, 40, 34, 27, 42, 24, 54, 28, 55, 39, 38, 32, 29,\n",
       "       52, 57, 31, 45, 30, 43, 58, 63, 50, 26, 33], dtype=int64)"
      ]
     },
     "execution_count": 17,
     "metadata": {},
     "output_type": "execute_result"
    }
   ],
   "source": [
    "df_final['age'].unique()     ## These are the age group of people"
   ]
  },
  {
   "cell_type": "code",
   "execution_count": 18,
   "id": "631e75a4-ed72-4b46-add3-069ed91487a4",
   "metadata": {},
   "outputs": [
    {
     "data": {
      "text/plain": [
       "array(['Recife (PE)', 'Florianopolis (SC)', 'Aracaju (SE)',\n",
       "       'Salvador (BH)', 'Brasilia (DF)', 'Natal (RN)', 'Sao Paulo (SP)',\n",
       "       'Campo Grande (MS)', 'Rio de Janeiro (RJ)'], dtype=object)"
      ]
     },
     "execution_count": 18,
     "metadata": {},
     "output_type": "execute_result"
    }
   ],
   "source": [
    "df_final['from'].unique()"
   ]
  },
  {
   "cell_type": "code",
   "execution_count": 19,
   "id": "abcac7d6-54c6-4428-9cbf-065b43be36d1",
   "metadata": {},
   "outputs": [
    {
     "data": {
      "text/plain": [
       "array(['Florianopolis (SC)', 'Recife (PE)', 'Salvador (BH)',\n",
       "       'Aracaju (SE)', 'Brasilia (DF)', 'Natal (RN)', 'Sao Paulo (SP)',\n",
       "       'Campo Grande (MS)', 'Rio de Janeiro (RJ)'], dtype=object)"
      ]
     },
     "execution_count": 19,
     "metadata": {},
     "output_type": "execute_result"
    }
   ],
   "source": [
    "df_final['to'].unique()"
   ]
  },
  {
   "cell_type": "code",
   "execution_count": 20,
   "id": "7c97a035-5c1f-46b1-b4c7-3c44155dc762",
   "metadata": {},
   "outputs": [
    {
     "data": {
      "text/plain": [
       "array(['firstClass', 'economic', 'premium'], dtype=object)"
      ]
     },
     "execution_count": 20,
     "metadata": {},
     "output_type": "execute_result"
    }
   ],
   "source": [
    "df_final['flightType'].unique()"
   ]
  },
  {
   "cell_type": "code",
   "execution_count": 21,
   "id": "d3a0adb1-38c2-4e8b-a952-8d7e7a046fe3",
   "metadata": {},
   "outputs": [
    {
     "data": {
      "text/plain": [
       "array(['FlyingDrops', 'CloudFy', 'Rainbow'], dtype=object)"
      ]
     },
     "execution_count": 21,
     "metadata": {},
     "output_type": "execute_result"
    }
   ],
   "source": [
    "df_final['flightAgency'].unique()"
   ]
  },
  {
   "cell_type": "markdown",
   "id": "dd970c35-492e-463a-a83c-5c7e4c02ebcb",
   "metadata": {},
   "source": [
    "## Visualization"
   ]
  },
  {
   "cell_type": "markdown",
   "id": "e583a2f8-773b-4044-96a9-78cda9dc6dc5",
   "metadata": {},
   "source": [
    "### Gender vs. Average Flight Price"
   ]
  },
  {
   "cell_type": "code",
   "execution_count": 22,
   "id": "34ecd0fa-4d02-446a-befb-31b1c9b90af2",
   "metadata": {},
   "outputs": [
    {
     "data": {
      "text/plain": [
       "gender\n",
       "female    953.761477\n",
       "male      963.001371\n",
       "none      956.413901\n",
       "Name: flightPrice, dtype: float64"
      ]
     },
     "execution_count": 22,
     "metadata": {},
     "output_type": "execute_result"
    }
   ],
   "source": [
    "## first df_final.groupby('gender') line of code will make a group by each gender\n",
    "## then ['flightPrice'] after split into groups, this part of the code selects the ‘flightPrice’ column from each group\n",
    "## then at the last .mean() function making mean value of each column\n",
    "\n",
    "average_price = df_final.groupby('gender')['flightPrice'].mean()\n",
    "average_price"
   ]
  },
  {
   "cell_type": "code",
   "execution_count": 23,
   "id": "c2e9e414-9f9f-4d18-86de-9a301488e5fd",
   "metadata": {},
   "outputs": [
    {
     "data": {
      "image/png": "[encoded data removed]",
      "text/plain": [
       "<Figure size 640x480 with 1 Axes>"
      ]
     },
     "metadata": {},
     "output_type": "display_data"
    }
   ],
   "source": [
    "plt.bar(average_price.index, average_price.values, color=['blue', 'pink'])\n",
    "plt.xlabel('Gender')\n",
    "plt.ylabel('Average Flight Price')\n",
    "plt.title('Average Flight Price by Gender')\n",
    "plt.show()"
   ]
  },
  {
   "cell_type": "markdown",
   "id": "d8c94fa6-34b3-4b35-8ba7-210cb15b2e30",
   "metadata": {},
   "source": [
    "### Histogram of Age"
   ]
  },
  {
   "cell_type": "code",
   "execution_count": 24,
   "id": "fe6b1aaa-6286-41b8-bfbb-4f959d2bed12",
   "metadata": {},
   "outputs": [
    {
     "data": {
      "text/plain": [
       "Text(0, 0.5, 'Frequency')"
      ]
     },
     "execution_count": 24,
     "metadata": {},
     "output_type": "execute_result"
    },
    {
     "data": {
      "image/png": "[encoded data removed]",
      "text/plain": [
       "<Figure size 640x480 with 1 Axes>"
      ]
     },
     "metadata": {},
     "output_type": "display_data"
    }
   ],
   "source": [
    "plt.hist(data=df_final,x='age',bins=50,edgecolor='black');\n",
    "plt.title('Histogram of Age')\n",
    "plt.xlabel('Age')\n",
    "plt.ylabel('Frequency')"
   ]
  },
  {
   "cell_type": "markdown",
   "id": "cad55206-5d49-4c2f-a818-29118d71633b",
   "metadata": {},
   "source": [
    "### Flight Distance vs. Flight Price"
   ]
  },
  {
   "cell_type": "code",
   "execution_count": 25,
   "id": "8c5329fe-545d-4cd0-b8d9-4a8133d6c8e2",
   "metadata": {},
   "outputs": [
    {
     "data": {
      "text/plain": [
       "Text(0, 0.5, 'Flight Distance')"
      ]
     },
     "execution_count": 25,
     "metadata": {},
     "output_type": "execute_result"
    },
    {
     "data": {
      "image/png": "[encoded data removed]",
      "text/plain": [
       "<Figure size 640x480 with 1 Axes>"
      ]
     },
     "metadata": {},
     "output_type": "display_data"
    }
   ],
   "source": [
    "plt.scatter(df_final.flightDistance,df_final.flightPrice)\n",
    "plt.title('Flight Distance vs Flight Price')\n",
    "plt.xlabel('Flight Price')\n",
    "plt.ylabel('Flight Distance')"
   ]
  },
  {
   "cell_type": "markdown",
   "id": "e18da220-cb91-4521-a9c9-71c3624ac3c6",
   "metadata": {},
   "source": [
    "### Flight Type vs. Average Flight Price"
   ]
  },
  {
   "cell_type": "code",
   "execution_count": 26,
   "id": "ae200238-7c90-4f6a-a6e8-91d7d163c8a9",
   "metadata": {},
   "outputs": [],
   "source": [
    "## first df_final.groupby('flightType') line of code will make a group by each gender\n",
    "## then ['flightPrice'] after split into groups, this part of the code selects the ‘flightPrice’ column from each group\n",
    "## then at the last .mean() function making mean value of each column\n",
    "\n",
    "\n",
    "avg_flightType_Price=df_final.groupby('flightType')['flightPrice'].mean()"
   ]
  },
  {
   "cell_type": "code",
   "execution_count": 27,
   "id": "bce65af9-dfeb-4eea-83de-782085b5b795",
   "metadata": {},
   "outputs": [
    {
     "data": {
      "text/plain": [
       "flightType\n",
       "economic       660.901538\n",
       "firstClass    1181.546355\n",
       "premium        920.644034\n",
       "Name: flightPrice, dtype: float64"
      ]
     },
     "execution_count": 27,
     "metadata": {},
     "output_type": "execute_result"
    }
   ],
   "source": [
    "avg_flightType_Price"
   ]
  },
  {
   "cell_type": "code",
   "execution_count": 28,
   "id": "213b332a-032f-4661-82e8-b613c800cd85",
   "metadata": {},
   "outputs": [
    {
     "data": {
      "text/plain": [
       "Text(0, 0.5, 'Avg Flight Price')"
      ]
     },
     "execution_count": 28,
     "metadata": {},
     "output_type": "execute_result"
    },
    {
     "data": {
      "image/png": "[encoded data removed]",
      "text/plain": [
       "<Figure size 640x480 with 1 Axes>"
      ]
     },
     "metadata": {},
     "output_type": "display_data"
    }
   ],
   "source": [
    "plt.bar(avg_flightType_Price.index,avg_flightType_Price.values,color=['Green','Red','Gold'])\n",
    "plt.title('Flight Type vs Avg Flight Price')\n",
    "plt.xlabel('Flight Type')\n",
    "plt.ylabel('Avg Flight Price')"
   ]
  },
  {
   "cell_type": "markdown",
   "id": "7eb78e95-8bf6-43ae-bb11-ebf065dcece9",
   "metadata": {},
   "source": [
    "### Heatmap of Correlation between Numerical Variables"
   ]
  },
  {
   "cell_type": "code",
   "execution_count": 33,
   "id": "a5590f79-3100-4b63-b46c-70a691b9edfa",
   "metadata": {},
   "outputs": [],
   "source": [
    "# Create a new DataFrame that only includes numerical columns\n",
    "df_numerical = df_final.select_dtypes(include=[np.number])"
   ]
  },
  {
   "cell_type": "code",
   "execution_count": 38,
   "id": "59477558-7013-4516-9d7f-3fb063781d69",
   "metadata": {},
   "outputs": [
    {
     "data": {
      "image/png": "[encoded data removed]",
      "text/plain": [
       "<Figure size 1000x800 with 2 Axes>"
      ]
     },
     "metadata": {},
     "output_type": "display_data"
    }
   ],
   "source": [
    "corr = df_numerical.corr()\n",
    "\n",
    "plt.figure(figsize=(10, 8))\n",
    "sns.heatmap(corr, annot=True, fmt=\".2f\", cmap='Blues', cbar=True)\n",
    "plt.title('Heatmap of Correlation between Numerical Variables')\n",
    "plt.show()\n"
   ]
  }
 ],
 "metadata": {
  "kernelspec": {
   "display_name": "Python 3 (ipykernel)",
   "language": "python",
   "name": "python3"
  },
  "language_info": {
   "codemirror_mode": {
    "name": "ipython",
    "version": 3
   },
   "file_extension": ".py",
   "mimetype": "text/x-python",
   "name": "python",
   "nbconvert_exporter": "python",
   "pygments_lexer": "ipython3",
   "version": "3.12.1"
  }
 },
 "nbformat": 4,
 "nbformat_minor": 5
}
